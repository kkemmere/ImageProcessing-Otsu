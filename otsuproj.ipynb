{
 "cells": [
  {
   "cell_type": "code",
   "execution_count": 1,
   "metadata": {},
   "outputs": [
    {
     "name": "stderr",
     "output_type": "stream",
     "text": [
      "/Users/tj8200pw/opt/anaconda3/lib/python3.8/site-packages/IPython/html.py:12: ShimWarning: The `IPython.html` package has been deprecated since IPython 4.0. You should import from `notebook` instead. `IPython.html.widgets` has moved to `ipywidgets`.\n",
      "  warn(\"The `IPython.html` package has been deprecated since IPython 4.0. \"\n"
     ]
    },
    {
     "data": {
      "application/vnd.jupyter.widget-view+json": {
       "model_id": "b997b6b544c74710a187132272535b44",
       "version_major": 2,
       "version_minor": 0
      },
      "text/plain": [
       "HTML(value=\"<b><font color='black'>Segment any image!</b>\")"
      ]
     },
     "metadata": {},
     "output_type": "display_data"
    },
    {
     "data": {
      "application/vnd.jupyter.widget-view+json": {
       "model_id": "b0481813414546699d58207654d66a19",
       "version_major": 2,
       "version_minor": 0
      },
      "text/plain": [
       "Text(value='Must be valid image file/path (image.jpg)', description='Input image: ')"
      ]
     },
     "metadata": {},
     "output_type": "display_data"
    },
    {
     "data": {
      "application/vnd.jupyter.widget-view+json": {
       "model_id": "d0786ce466bc4a12bae9c95af35aed29",
       "version_major": 2,
       "version_minor": 0
      },
      "text/plain": [
       "Label(value='(K-Means requires changing the value of K depending on num of colors in an image) ')"
      ]
     },
     "metadata": {},
     "output_type": "display_data"
    },
    {
     "data": {
      "application/vnd.jupyter.widget-view+json": {
       "model_id": "d1464600584d47248e56c2eca340da35",
       "version_major": 2,
       "version_minor": 0
      },
      "text/plain": [
       "VBox(children=(Button(description=\"Otsu's method\", style=ButtonStyle(button_color='lightgreen')), Button(descr…"
      ]
     },
     "metadata": {},
     "output_type": "display_data"
    }
   ],
   "source": [
    "# Kevin Kemmerer, CS433 Digital Image Processing, Otsu's method project\n",
    "\n",
    "# Import Libraries for GUI, Images\n",
    "import os\n",
    "import cv2\n",
    "import numpy as np\n",
    "%matplotlib notebook\n",
    "import pandas as pd\n",
    "from ipywidgets import *\n",
    "from IPython.display import display\n",
    "from IPython.html import widgets\n",
    "import matplotlib.pyplot as plt\n",
    "from matplotlib.pyplot import imshow\n",
    "import seaborn as sns\n",
    "from skimage import io, color, data, filters, morphology\n",
    "from skimage.filters import *\n",
    "from PIL import Image, ImageDraw, ImageFont\n",
    "\n",
    "# ignore warning messages\n",
    "import warnings\n",
    "warnings.filterwarnings('ignore')\n",
    "\n",
    "# Labels\n",
    "#w = widgets.Label(value=\"Segment any image!\")\n",
    "w = widgets.HTML(value = f\"<b><font color='black'>{'Segment any image!'}</b>\") # HTML wrapper to format label\n",
    "display(w)\n",
    "text = widgets.Text(\"Must be valid image file/path (image.jpg)\", description=\"Input image: \", width=200)\n",
    "display(text)\n",
    "w = widgets.Label(value=\"(K-Means requires changing the value of K depending on num of colors in an image) \")\n",
    "display(w)\n",
    "\n",
    "button1 = widgets.Button(description=\"Otsu's method\", width=100)\n",
    "button1.style.button_color = 'lightgreen'\n",
    "button2 = widgets.Button(description=\"K-Means\", width=100)\n",
    "button2.style.button_color = 'lightblue'\n",
    "button3 = widgets.Button(description=\"Original Image\", width=100)\n",
    "# display(button1, button2, button3)\n",
    "button_box = VBox([button1, button2, button3])\n",
    "display(button_box)\n",
    "\n",
    "# Otsu's Segmentation method\n",
    "def otsu(img):\n",
    "    pixels = img.shape[0] * img.shape[1]\n",
    "    mean_weight = 1.0/pixels\n",
    "    #print(mean_weight)\n",
    "    histo, binar = np.histogram(img, np.arange(0,257))\n",
    "    final_thresh = -1\n",
    "    final_value = -1\n",
    "    intensity_arr = np.arange(256)\n",
    "    for t in binar[1:-1]: # for pixels 1-254 uint8\n",
    "        # Pixel count of foreground/background from histo\n",
    "        pcb = np.sum(histo[:t])\n",
    "        pcf = np.sum(histo[t:])\n",
    "        # printpcb, pcf\n",
    "        # Calculating weight of foreground/background\n",
    "        Wb = pcb * mean_weight\n",
    "        Wf = pcf * mean_weight\n",
    "        \n",
    "        # Multiply intensity level to respective pixel counts (foreground, background)\n",
    "        mub = np.sum(intensity_arr[:t]*histo[:t]) / float(pcb)\n",
    "        muf = np.sum(intensity_arr[t:]*histo[t:]) / float(pcf)\n",
    "        # print mub, muf\n",
    "        # Threshold value calculation\n",
    "        value = Wb * Wf * (mub - muf) ** 2\n",
    "        \n",
    "        # Final calculation to segment image\n",
    "        if value > final_value:\n",
    "            final_thresh = t\n",
    "            final_value = value\n",
    "    final_img = img.copy()\n",
    "    print(\"Final threshold value: \",final_thresh)\n",
    "    final_img[img > final_thresh] = 255 # If original image pixel is greater than final threshold then intensity = 255\n",
    "    final_img[img < final_thresh] = 0 # If original image pixel is less tahn final threshold then intensity = 0\n",
    "    return final_img\n",
    "\n",
    "# number of clusters (K)\n",
    "# Help from https://www.thepythoncode.com/article/kmeans-for-image-segmentation-opencv-python\n",
    "def kmeans(img, k):\n",
    "    image = cv2.cvtColor(img, cv2.COLOR_BGR2RGB) #Convert from BGR to RGB Color\n",
    "    # reshape the image to a 2D array of pixels\n",
    "    pixel_values = image.reshape((-1, 3))\n",
    "    # convert to float\n",
    "    pixel_values = np.float32(pixel_values)\n",
    "    # Set criteria (How many itterations)\n",
    "    criteria = (cv2.TERM_CRITERIA_EPS + cv2.TERM_CRITERIA_MAX_ITER, 100, 0.2)\n",
    "    \n",
    "    # Calculate K-means\n",
    "    _, labels, (centers) = cv2.kmeans(pixel_values, k, None, criteria, 10, cv2.KMEANS_RANDOM_CENTERS)\n",
    "    \n",
    "     # convert back to 8 bit values\n",
    "    centers = np.uint8(centers)\n",
    "\n",
    "    # flatten the labels array\n",
    "    labels = labels.flatten()\n",
    "    \n",
    "    segmented_image = centers[labels.flatten()]\n",
    "    \n",
    "    # Convert back to original image\n",
    "    segmented_image = segmented_image.reshape(image.shape)\n",
    "    \n",
    "    return segmented_image\n",
    "\n",
    "# Watermark an image (takes filename input, text for watermark)\n",
    "def add_watermark(fileName, text):\n",
    "    # Create an Image Object from an Image\n",
    "    im = Image.open(fileName)\n",
    "    width, height = im.size\n",
    "\n",
    "    draw = ImageDraw.Draw(im)\n",
    "    \n",
    "    font = ImageFont.truetype('arial.ttf', 24)\n",
    "    textwidth, textheight = draw.textsize(text, font)\n",
    "\n",
    "    # calculate the x,y coordinates of the text\n",
    "    margin = 10\n",
    "    x = width - textwidth - margin\n",
    "    y = height - textheight - margin\n",
    "\n",
    "    # draw watermark in the bottom right corner\n",
    "    draw.text((x, y), text, font=font)\n",
    "    # im.show()\n",
    "\n",
    "    # Save watermarked image\n",
    "    # Modified such that if image is a .png it will save as png and vice versa\n",
    "    if fileName.endswith((\".png\")):\n",
    "        im.save(os.path.splitext(fileName)[0]+\"_watermarked\"+\".png\")\n",
    "        watermarked_picture = Image.open(os.path.splitext(fileName)[0]+\"_watermarked\"+\".png\")\n",
    "    else:\n",
    "        im.save(os.path.splitext(fileName)[0]+\"_watermarked\"+\".jpg\")\n",
    "        watermarked_picture = Image.open(os.path.splitext(fileName)[0]+\"_watermarked\"+\".jpg\")\n",
    "\n",
    "    return watermarked_picture\n",
    "\n",
    "# Initial Image from line of text\n",
    "def handle_input(sender):\n",
    "    input_image = text.value\n",
    "    #print(text.value)\n",
    "    #print(input_image)\n",
    "    paper_img = io.imread(input_image)\n",
    "    io.imshow(paper_img)\n",
    "\n",
    "# Otsu's Method Button\n",
    "def on_otsu_clicked(b1):\n",
    "    input_image = text.value\n",
    "    paper_img = cv2.imread(input_image)\n",
    "    paper_image = cv2.cvtColor(paper_img, cv2.COLOR_BGR2GRAY)\n",
    "    \n",
    "    binary = otsu(paper_image)\n",
    "    io.imshow(binary)\n",
    "    \n",
    "# K-Means Button\n",
    "def on_knn_clicked(b2):\n",
    "    input_image = text.value\n",
    "    paper_img = cv2.imread(input_image)\n",
    "    \n",
    "    # Input (img,k) into kmeans function\n",
    "    # K usually depends on how many colors are in the image - would like to have user input for this \n",
    "    kimage = kmeans(paper_img, 3)\n",
    "    io.imshow(kimage)\n",
    "    \n",
    "# Original Image Button\n",
    "def on_original_clicked(b3):\n",
    "    input_image = text.value\n",
    "    watermarked_picture = add_watermark(input_image, \"Original Image\")\n",
    "    #paper_img = io.imread(input_image)\n",
    "    final_pic = np.asarray(watermarked_picture)\n",
    "    io.imshow(final_pic)\n",
    "    \n",
    "text.on_submit(handle_input)\n",
    "button1.on_click(on_otsu_clicked)\n",
    "button2.on_click(on_knn_clicked)\n",
    "button3.on_click(on_original_clicked)\n",
    "plt.show()\n",
    "\n"
   ]
  },
  {
   "cell_type": "code",
   "execution_count": null,
   "metadata": {},
   "outputs": [],
   "source": []
  },
  {
   "cell_type": "code",
   "execution_count": null,
   "metadata": {},
   "outputs": [],
   "source": []
  }
 ],
 "metadata": {
  "kernelspec": {
   "display_name": "Python 3",
   "language": "python",
   "name": "python3"
  },
  "language_info": {
   "codemirror_mode": {
    "name": "ipython",
    "version": 3
   },
   "file_extension": ".py",
   "mimetype": "text/x-python",
   "name": "python",
   "nbconvert_exporter": "python",
   "pygments_lexer": "ipython3",
   "version": "3.8.5"
  }
 },
 "nbformat": 4,
 "nbformat_minor": 4
}
